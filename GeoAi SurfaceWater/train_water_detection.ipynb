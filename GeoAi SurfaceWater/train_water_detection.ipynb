{
  "cells": [
    {
      "cell_type": "markdown",
      "metadata": {
        "id": "UfE5mkt44eTu"
      },
      "source": [
        "# Training a Model for Detecting Surface Water\n"
      ]
    },
    {
      "cell_type": "code",
      "execution_count": null,
      "metadata": {
        "id": "QZZwksd74eTu"
      },
      "outputs": [],
      "source": [
        "# %pip install geoai-py"
      ]
    },
    {
      "cell_type": "code",
      "execution_count": null,
      "metadata": {
        "id": "T5jUR7Vh4eTv"
      },
      "outputs": [],
      "source": [
        "import geoai"
      ]
    },
    {
      "cell_type": "code",
      "execution_count": null,
      "metadata": {
        "id": "QmpdlK5a4eTv"
      },
      "outputs": [],
      "source": [
        "train_raster_url = \"https://huggingface.co/datasets/giswqs/geospatial/resolve/main/naip/naip_water_train.tif\"\n",
        "train_masks_url = \"https://huggingface.co/datasets/giswqs/geospatial/resolve/main/naip/naip_water_masks.tif\"\n",
        "test_raster_url = \"https://huggingface.co/datasets/giswqs/geospatial/resolve/main/naip/naip_water_test.tif\""
      ]
    },
    {
      "cell_type": "code",
      "execution_count": null,
      "metadata": {
        "id": "ZrYzoLI64eTv"
      },
      "outputs": [],
      "source": [
        "train_raster_path = geoai.download_file(train_raster_url)\n",
        "train_masks_path = geoai.download_file(train_masks_url)\n",
        "test_raster_path = geoai.download_file(test_raster_url)"
      ]
    },
    {
      "cell_type": "code",
      "execution_count": null,
      "metadata": {
        "id": "I5W5ljoP4eTv"
      },
      "outputs": [],
      "source": [
        "geoai.print_raster_info(train_raster_path, show_preview=False)"
      ]
    },
    {
      "cell_type": "code",
      "execution_count": null,
      "metadata": {
        "id": "8FyANBNW4eTv"
      },
      "outputs": [],
      "source": [
        "geoai.view_raster(train_masks_url, nodata=0, basemap=train_raster_url)"
      ]
    },
    {
      "cell_type": "code",
      "execution_count": null,
      "metadata": {
        "id": "tN3aQ6q14eTw"
      },
      "outputs": [],
      "source": [
        "geoai.view_raster(test_raster_url)"
      ]
    },
    {
      "cell_type": "markdown",
      "metadata": {
        "id": "MiMJg6lE4eTw"
      },
      "source": [
        "## Create training data"
      ]
    },
    {
      "cell_type": "code",
      "execution_count": null,
      "metadata": {
        "id": "ey8WWPak4eTw"
      },
      "outputs": [],
      "source": [
        "out_folder = \"output\""
      ]
    },
    {
      "cell_type": "code",
      "execution_count": null,
      "metadata": {
        "id": "O5WseDUe4eTw"
      },
      "outputs": [],
      "source": [
        "tiles = geoai.export_geotiff_tiles(\n",
        "    in_raster=train_raster_path,\n",
        "    out_folder=out_folder,\n",
        "    in_class_data=train_masks_path,\n",
        "    tile_size=512,\n",
        "    stride=128,\n",
        "    buffer_radius=0,\n",
        ")"
      ]
    },
    {
      "cell_type": "markdown",
      "metadata": {
        "id": "nUpxPixP4eTw"
      },
      "source": [
        "## Train object detection model"
      ]
    },
    {
      "cell_type": "code",
      "execution_count": null,
      "metadata": {
        "id": "h8CAOLAm4eTw"
      },
      "outputs": [],
      "source": [
        "geoai.train_MaskRCNN_model(\n",
        "    images_dir=f\"{out_folder}/images\",\n",
        "    labels_dir=f\"{out_folder}/labels\",\n",
        "    output_dir=f\"{out_folder}/models\",\n",
        "    num_channels=4,\n",
        "    pretrained=True,\n",
        "    batch_size=4,\n",
        "    num_epochs=10,\n",
        "    learning_rate=0.005,\n",
        "    val_split=0.2,\n",
        ")"
      ]
    },
    {
      "cell_type": "markdown",
      "metadata": {
        "id": "UeO8exyz4eTw"
      },
      "source": [
        "## Run inference"
      ]
    },
    {
      "cell_type": "code",
      "execution_count": null,
      "metadata": {
        "id": "cTe8zPWa4eTw"
      },
      "outputs": [],
      "source": [
        "masks_path = \"naip_water_prediction.tif\"\n",
        "model_path = f\"{out_folder}/models/best_model.pth\""
      ]
    },
    {
      "cell_type": "code",
      "execution_count": null,
      "metadata": {
        "id": "3v9Q25ju4eTw"
      },
      "outputs": [],
      "source": [
        "geoai.object_detection(\n",
        "    test_raster_path,\n",
        "    masks_path,\n",
        "    model_path,\n",
        "    window_size=512,\n",
        "    overlap=128,\n",
        "    confidence_threshold=0.3,\n",
        "    batch_size=4,\n",
        "    num_channels=4,\n",
        ")"
      ]
    },
    {
      "cell_type": "markdown",
      "metadata": {
        "id": "WcQj4HFG4eTw"
      },
      "source": [
        "## Vectorize masks"
      ]
    },
    {
      "cell_type": "code",
      "execution_count": null,
      "metadata": {
        "id": "9eC4zc7P4eTw"
      },
      "outputs": [],
      "source": [
        "output_path = \"naip_water_prediction.geojson\"\n",
        "gdf = geoai.raster_to_vector(\n",
        "    masks_path, output_path, min_area=1000, simplify_tolerance=1\n",
        ")"
      ]
    },
    {
      "cell_type": "code",
      "execution_count": null,
      "metadata": {
        "id": "u4_Vlb0u4eTw"
      },
      "outputs": [],
      "source": [
        "gdf = geoai.add_geometric_properties(gdf)"
      ]
    },
    {
      "cell_type": "code",
      "execution_count": null,
      "metadata": {
        "id": "jM20JSdp4eTw"
      },
      "outputs": [],
      "source": [
        "len(gdf)"
      ]
    },
    {
      "cell_type": "code",
      "execution_count": null,
      "metadata": {
        "id": "MFPHl31q4eTw"
      },
      "outputs": [],
      "source": [
        "geoai.view_vector_interactive(gdf, tiles=test_raster_url)"
      ]
    },
    {
      "cell_type": "code",
      "execution_count": null,
      "metadata": {
        "id": "3lfoghxR4eTw"
      },
      "outputs": [],
      "source": [
        "gdf[\"elongation\"].hist()"
      ]
    },
    {
      "cell_type": "code",
      "execution_count": null,
      "metadata": {
        "id": "jObWk-Cp4eTx"
      },
      "outputs": [],
      "source": [
        "gdf_filtered = gdf[gdf[\"elongation\"] < 10]"
      ]
    },
    {
      "cell_type": "code",
      "execution_count": null,
      "metadata": {
        "id": "RkaAomnR4eTx"
      },
      "outputs": [],
      "source": [
        "len(gdf_filtered)"
      ]
    },
    {
      "cell_type": "markdown",
      "metadata": {
        "id": "Oy4TooWO4eTx"
      },
      "source": [
        "## Visualize results"
      ]
    },
    {
      "cell_type": "code",
      "execution_count": null,
      "metadata": {
        "id": "2zMKE8t84eTx"
      },
      "outputs": [],
      "source": [
        "geoai.view_vector_interactive(gdf_filtered, tiles=test_raster_url)"
      ]
    },
    {
      "cell_type": "code",
      "execution_count": null,
      "metadata": {
        "id": "MzzGland4eTx"
      },
      "outputs": [],
      "source": [
        "geoai.create_split_map(\n",
        "    left_layer=gdf_filtered,\n",
        "    right_layer=test_raster_url,\n",
        "    left_args={\"style\": {\"color\": \"red\", \"fillOpacity\": 0.2}},\n",
        "    basemap=test_raster_url,\n",
        ")"
      ]
    },
    {
      "cell_type": "markdown",
      "metadata": {
        "id": "lHYYG0ew4eTx"
      },
      "source": [
        "![image](https://github.com/user-attachments/assets/a269b5a0-9f72-4ed8-8b2d-a175bbc45a23)"
      ]
    }
  ],
  "metadata": {
    "kernelspec": {
      "display_name": "Python 3 (ipykernel)",
      "language": "python",
      "name": "python3"
    },
    "language_info": {
      "codemirror_mode": {
        "name": "ipython",
        "version": 3
      },
      "file_extension": ".py",
      "mimetype": "text/x-python",
      "name": "python",
      "nbconvert_exporter": "python",
      "pygments_lexer": "ipython3",
      "version": "3.12.9"
    },
    "colab": {
      "provenance": []
    }
  },
  "nbformat": 4,
  "nbformat_minor": 0
}